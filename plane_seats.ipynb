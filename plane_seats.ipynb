{
 "cells": [
  {
   "cell_type": "markdown",
   "metadata": {},
   "source": [
    "##### One hundred people line up to board an airplane. Each has a boarding pass with assigned seat. However, the first person to board has lost their boarding pass and takes a random seat. After that, each person takes the assigned seat if it is unoccupied, and one of unoccupied seats at random otherwise. What is the probability that the last person to board gets to sit in their assigned seat? [P. Winkler]"
   ]
  },
  {
   "cell_type": "code",
   "execution_count": 21,
   "metadata": {},
   "outputs": [],
   "source": [
    "import numpy as np\n",
    "import matplotlib.pyplot as plt\n",
    "\n",
    "# shut up and simulate\n",
    "n_trials = 10000\n",
    "n_people = 100"
   ]
  },
  {
   "cell_type": "code",
   "execution_count": 35,
   "metadata": {},
   "outputs": [
    {
     "name": "stdout",
     "output_type": "stream",
     "text": [
      "The probability that the last person sat in their own seat is 0.507\n"
     ]
    }
   ],
   "source": [
    "# find the number of trials where the last person sat in their own seat\n",
    "\n",
    "# start by assigning a random seat to the first person for each trial\n",
    "first_seat_ID = np.random.randint(0, n_people, n_trials)\n",
    "\n",
    "# now seat people, in order, for each trial. whenever their seat is taken, they take a random seat of the remaining seats\n",
    "# then count the number of trials where the last person sat in their own seat\n",
    "last_seat_assigned_right = np.zeros(n_trials, dtype=bool) # boolean array to store whether the last person sat in their own seat\n",
    "\n",
    "# loop across trials\n",
    "for i in range(n_trials):\n",
    "    # initialize single-trial arrays\n",
    "    seats_ID = np.zeros(n_people) # seat ID of each person in trial\n",
    "    randomly_assigned_seats_ID = np.array([]) # seats that have been randomly assigned in trial\n",
    "    seats_ID[0] = first_seat_ID[i] # first seat randomly taken in trial\n",
    "    randomly_assigned_seats_ID = np.append(randomly_assigned_seats_ID, seats_ID[0]) # add first seat to randomly assigned seats\n",
    "    correctly_assigned_seats_ID = np.array([]) # seats that have been correctly assigned in trial\n",
    "    # loop across people\n",
    "    for j in range(1, n_people):\n",
    "        if j in randomly_assigned_seats_ID:\n",
    "            seats_ID[j] = np.random.choice(np.setdiff1d(np.arange(n_people), np.concatenate((correctly_assigned_seats_ID, randomly_assigned_seats_ID))))\n",
    "            randomly_assigned_seats_ID = np.append(randomly_assigned_seats_ID, seats_ID[j])\n",
    "            #print(randomly_assigned_seats_ID)\n",
    "        else:\n",
    "            seats_ID[j] = j\n",
    "            correctly_assigned_seats_ID = np.append(correctly_assigned_seats_ID, j)\n",
    "    #print(seats_ID)\n",
    "    if seats_ID[-1] == n_people-1:\n",
    "        last_seat_assigned_right[i] = True\n",
    "\n",
    "print('The probability that the last person sat in their own seat is', np.sum(last_seat_assigned_right)/n_trials)"
   ]
  },
  {
   "cell_type": "markdown",
   "metadata": {},
   "source": [
    "##### Let's make sense of this result (which holds for any $n>1, n \\in \\mathbb N$). For any passenger $j$ preceding the last whose seat was taken, they can be assigned any one of the $n-j+1$ remaining seats. There are 3 case scenarios: 1. They are assigned a random seat which isn't the first or last person's. 2. They are assigned the first person's seat. 3. They are assigned the last person's seat. Case number 1. eventually falls back to either case 2. or 3. as people are assigned seats, and there is no possible scenario where both first and last person's seats are assigned before the last person. This is because once either the first or last seat is taken, all people coming next get their assigned seat (except, possibly, the last). Thus, the last person either gets their seat or the first person's seat, i.e., $p=0.5$."
   ]
  },
  {
   "cell_type": "markdown",
   "metadata": {},
   "source": []
  }
 ],
 "metadata": {
  "kernelspec": {
   "display_name": "Python 3",
   "language": "python",
   "name": "python3"
  },
  "language_info": {
   "codemirror_mode": {
    "name": "ipython",
    "version": 3
   },
   "file_extension": ".py",
   "mimetype": "text/x-python",
   "name": "python",
   "nbconvert_exporter": "python",
   "pygments_lexer": "ipython3",
   "version": "3.11.8"
  }
 },
 "nbformat": 4,
 "nbformat_minor": 2
}
