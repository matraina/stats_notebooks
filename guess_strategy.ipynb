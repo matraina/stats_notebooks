{
 "cells": [
  {
   "cell_type": "markdown",
   "id": "e2987f54-2a09-4338-b7a1-83302c65a217",
   "metadata": {},
   "source": [
    "### From New York Times, Science Times, D5, April 10, 2001:\n",
    "##### Three players enter a room and a red or blue hat is placed on each person’s head. The color of each hat is determined by [an independent] coin toss. No communication of any sort is allowed, except for an initial strategy session before the game begins. Once they have had a chance to look at the other hats [but not their own], the players must simultaneously guess the color of their own hats or pass. The puzzle is to find a group strategy that maximizes the probability that at least one person guesses correctly and no-one guesses incorrectly. The naive strategy would be for the group to agree that one person should guess and the others pass. This would have probability 1/2 of success. Find a strategy with a greater chance for success."
   ]
  },
  {
   "cell_type": "code",
   "execution_count": 2,
   "id": "75918b13-d970-41b4-a579-4654557603ec",
   "metadata": {},
   "outputs": [],
   "source": [
    "import numpy as np\n",
    "import matplotlib.pyplot as plt"
   ]
  },
  {
   "cell_type": "code",
   "execution_count": 7,
   "id": "10e5c792",
   "metadata": {},
   "outputs": [],
   "source": [
    "# simulate 1000 sets of 3 coin tosses\n",
    "np.random.seed(0)\n",
    "n = 10000\n",
    "n_tosses = 3\n",
    "coin_tosses = np.random.randint(0, 2, (n, n_tosses))"
   ]
  },
  {
   "cell_type": "code",
   "execution_count": 8,
   "id": "35c9ce40",
   "metadata": {},
   "outputs": [
    {
     "name": "stdout",
     "output_type": "stream",
     "text": [
      "Strategy 1:  0.4959\n",
      "Strategy 2:  0.2487\n",
      "Strategy 3:  0.1237\n"
     ]
    }
   ],
   "source": [
    "# now we look at various strategies: guess or pass\n",
    "\n",
    "# here players guess regardless of info on other hats\n",
    "# we ignore case where no player guesses since probability of at least one guess is 0 in that case\n",
    "# strategy 1: one players guess, other two pass\n",
    "# strategy 2: two players guess, one passes\n",
    "# strategy 3: all players guess\n",
    "\n",
    "guess_strategy_1 = 0\n",
    "guess_strategy_2 = 0\n",
    "guess_strategy_3 = 0\n",
    "for i in range(n):\n",
    "    simulated_number_1 = np.random.randint(0, 2)\n",
    "    simulated_number_2 = np.random.randint(0, 2)\n",
    "    simulated_number_3 = np.random.randint(0, 2)\n",
    "    if coin_tosses[i, 0] == simulated_number_1:\n",
    "        guess_strategy_1 += 1\n",
    "        if coin_tosses[i, 1] == simulated_number_2:\n",
    "            guess_strategy_2 += 1\n",
    "            if coin_tosses[i, 2] == simulated_number_3:\n",
    "                guess_strategy_3 += 1\n",
    "    \n",
    "print(\"Strategy 1: \", guess_strategy_1/n)\n",
    "print(\"Strategy 2: \", guess_strategy_2/n)\n",
    "print(\"Strategy 3: \", guess_strategy_3/n)"
   ]
  },
  {
   "cell_type": "code",
   "execution_count": 23,
   "id": "7b4f60fd",
   "metadata": {},
   "outputs": [
    {
     "name": "stdout",
     "output_type": "stream",
     "text": [
      "Strategy 4:  0.2455\n",
      "Strategy 5:  0.7545\n"
     ]
    }
   ],
   "source": [
    "# now players consider other players' hats\n",
    "# strategy 4: player bets same as other, only if other two hats are the same\n",
    "# strategy 5: player bets opposite to other, only if other two hats are same\n",
    "# strategy 6: player bets randomly if other two hats are different --> this gives P=0.5, of course\n",
    "\n",
    "guess_strategy_4 = 0\n",
    "guess_strategy_5 = 0\n",
    "guess_4 = np.zeros(n_tosses)\n",
    "guess_5 = np.zeros(n_tosses)\n",
    "for i in range(n):\n",
    "    guess_4[0] = coin_tosses[i, 1] if (coin_tosses[i, 1] == coin_tosses[i, 2]) else None # None is pass\n",
    "    guess_4[1] = coin_tosses[i, 0] if (coin_tosses[i, 0] == coin_tosses[i, 2]) else None\n",
    "    guess_4[2] = coin_tosses[i, 0] if (coin_tosses[i, 0] == coin_tosses[i, 1]) else None\n",
    "    guess_5[0] = not guess_4[0] if (coin_tosses[i, 1] == coin_tosses[i, 2]) else None # not None == True\n",
    "    guess_5[1] = not guess_4[1] if (coin_tosses[i, 0] == coin_tosses[i, 2]) else None\n",
    "    guess_5[2] = not guess_4[2] if (coin_tosses[i, 0] == coin_tosses[i, 1]) else None\n",
    "    if np.all(np.logical_or(guess_4 == coin_tosses[i], np.isnan(guess_4))):\n",
    "        guess_strategy_4 += 1\n",
    "    if np.all(np.logical_or(guess_5 == coin_tosses[i], np.isnan(guess_5))):\n",
    "        guess_strategy_5 += 1\n",
    "\n",
    "print(\"Strategy 4: \", guess_strategy_4/n)\n",
    "print(\"Strategy 5: \", guess_strategy_5/n)\n",
    "    "
   ]
  },
  {
   "cell_type": "markdown",
   "id": "4431bae4",
   "metadata": {},
   "source": []
  },
  {
   "cell_type": "markdown",
   "id": "2c60cf1b",
   "metadata": {},
   "source": [
    "##### So, the strategy that maximizes probability of getting at least one guess right and no guesses wrong is: the player only guesses the opposite color, when other two hats are the same color."
   ]
  },
  {
   "cell_type": "markdown",
   "id": "88b38ad3",
   "metadata": {},
   "source": []
  }
 ],
 "metadata": {
  "kernelspec": {
   "display_name": "Python 3",
   "language": "python",
   "name": "python3"
  },
  "language_info": {
   "codemirror_mode": {
    "name": "ipython",
    "version": 3
   },
   "file_extension": ".py",
   "mimetype": "text/x-python",
   "name": "python",
   "nbconvert_exporter": "python",
   "pygments_lexer": "ipython3",
   "version": "3.11.8"
  }
 },
 "nbformat": 4,
 "nbformat_minor": 5
}
