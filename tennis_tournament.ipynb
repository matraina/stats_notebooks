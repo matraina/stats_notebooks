{
 "cells": [
  {
   "cell_type": "markdown",
   "id": "e2987f54-2a09-4338-b7a1-83302c65a217",
   "metadata": {},
   "source": [
    "##### A tennis tournament has 8 players. The number a player draws from a hat decides his first-round rung in the tournament ladder. Suppose that the best player always defeats the next best and that the latter always defeats all the rest. The loser of the finals gets the runner-up cup. What is the chance that the second-best player wins the runner-up cup?"
   ]
  },
  {
   "cell_type": "markdown",
   "id": "75918b13-d970-41b4-a579-4654557603ec",
   "metadata": {},
   "source": [
    "##### Best and second-best player must be in different halves of the tournament to meet at the finals. Here's the math:\n",
    "##### Best in first half, second-best in second half: $$ 6! \\times 4 \\times 4 $$\n",
    "###### Rung permutations for the remaining 6 players: $6!$. Positions for best in first half: 4. Positions for second-best in second half: 4.\n",
    "##### Second-best in first half, best in second half: $$ 6! \\times 4 \\times 4 $$\n",
    "###### Rung permutations for the remaining 6 players: $6!$. Positions for second-best in first half: 4. Positions for best in second half: 4.\n",
    "#### Total number of cases with best and second best in distinct halves: $$ 6! \\times 8 \\times 4 $$\n",
    "#### Total number of cases: $$ 8! $$\n",
    "#### Probability of second-best winning runner-up cup: $$ \\frac{6! \\times 8 \\times 4}{8!} = \\frac{8 \\times 4}{8 \\times 7} = \\frac{4}{7} $$\n",
    "#### This result can be generalized to: $\\frac{2^{n-1}}{2^n-1}$, with $2^n$ number of players because there are $2^{n-1}$ rungs on distinct halves and ${2^n-1}$ total rungs excluding the best player."
   ]
  },
  {
   "cell_type": "markdown",
   "id": "bb48fe76",
   "metadata": {},
   "source": []
  }
 ],
 "metadata": {
  "kernelspec": {
   "display_name": "Python 3",
   "language": "python",
   "name": "python3"
  },
  "language_info": {
   "codemirror_mode": {
    "name": "ipython",
    "version": 3
   },
   "file_extension": ".py",
   "mimetype": "text/x-python",
   "name": "python",
   "nbconvert_exporter": "python",
   "pygments_lexer": "ipython3",
   "version": "3.11.8"
  }
 },
 "nbformat": 4,
 "nbformat_minor": 5
}
