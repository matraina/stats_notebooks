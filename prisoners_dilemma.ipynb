{
 "cells": [
  {
   "cell_type": "markdown",
   "metadata": {},
   "source": [
    "##### "
   ]
  },
  {
   "cell_type": "markdown",
   "metadata": {},
   "source": [
    "##### Three prisoners, A, B, and C, with apparently equally good records have applied for parole. The parole board has decided to release two of the three, and the prisoners know this but not which two. A warder friend of prisoner A knows who are to be released. Prisoner A realizes that it would be unethical to ask the warder if he, A, is to be released, but thinks of asking for the name of one prisoner other than himself who is to be released. He thinks that before he asks, his chances of release are $2/3$. He thinks that if the warder says \"B will be released,\" his own chances have now gone down to $1⁄2$, because either A and B or B and C are to be released. And so A decides not to reduce his chances by asking. However, A is mistaken in his calculations. Explain."
   ]
  },
  {
   "cell_type": "markdown",
   "metadata": {},
   "source": [
    "##### A is sampling the wrong space of events. The warder revealing information about the process produces the following event space:  \n",
    "A and B released, B revealed, with probability 1/3;  \n",
    "A and C released, C revealed, with probability 1/3;  \n",
    "B and C released, B revealed, with probability 1/6;    \n",
    "B and C released, C revealed, with probability 1/6.\n",
    "##### The probability of A being released, if B has been revealed, is: $$ P(A,B) = \\frac{P(A,B~\\text{rev})}{P(A,B~\\text{rev})+P(C,B~\\text{rev})} = \\frac{1/3}{1/3+1/6} = 2/3.$$"
   ]
  },
  {
   "cell_type": "markdown",
   "metadata": {},
   "source": [
    "##### This can be rewritten in terms of Bayes theorem: $$ P(A|B~\\text{rev}) = \\frac{P(A)P(B~\\text{rev}|A)}{P(B~\\text{rev})} = \\frac{(2/3)\\times(1/2)}{1/2}=2/3. $$\n"
   ]
  },
  {
   "cell_type": "markdown",
   "metadata": {},
   "source": []
  }
 ],
 "metadata": {
  "kernelspec": {
   "display_name": "Python 3",
   "language": "python",
   "name": "python3"
  },
  "language_info": {
   "codemirror_mode": {
    "name": "ipython",
    "version": 3
   },
   "file_extension": ".py",
   "mimetype": "text/x-python",
   "name": "python",
   "nbconvert_exporter": "python",
   "pygments_lexer": "ipython3",
   "version": "3.11.8"
  }
 },
 "nbformat": 4,
 "nbformat_minor": 2
}
