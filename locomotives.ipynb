{
 "cells": [
  {
   "cell_type": "markdown",
   "metadata": {},
   "source": [
    "##### "
   ]
  },
  {
   "cell_type": "markdown",
   "metadata": {},
   "source": [
    "##### a) A railroad numbers its locomotives in order: $1, 2,..., N$. One day you see a locomotive and its number is 60. Guess how many locomotives the company has. b) You have looked at 5 locomotives and the largest number observed is 60. Again guess how many locomotives the company has."
   ]
  },
  {
   "cell_type": "markdown",
   "metadata": {},
   "source": [
    "##### a) The probability of observing any one locomotive is $1/N$. The probability of observing any locomotive with number $n$ greater or equal to $M$, with $M>0$ and $M\\leq N$ is $ \\frac{N-M+1}{N}$.  The probability of observing any locomotive with number $n$ less or equal to $M$, with $M>0$ and $M\\leq N$ is $\\frac{M}{N}$. In absence of additional information, we can observe that when $N=119$: the two probabilities above are equal for $M=60$. Since there is no a priori reason to assume asymmetry here, we guess $N=119$. "
   ]
  },
  {
   "cell_type": "markdown",
   "metadata": {},
   "source": [
    "##### b) In this case, we want the probability with number $n$ less or equal to $M$ to be 5 times the probability with number $n$ greater or equal to $M$, this happens when $N=71$."
   ]
  }
 ],
 "metadata": {
  "kernelspec": {
   "display_name": "Python 3",
   "language": "python",
   "name": "python3"
  },
  "language_info": {
   "codemirror_mode": {
    "name": "ipython",
    "version": 3
   },
   "file_extension": ".py",
   "mimetype": "text/x-python",
   "name": "python",
   "nbconvert_exporter": "python",
   "pygments_lexer": "ipython3",
   "version": "3.11.8"
  }
 },
 "nbformat": 4,
 "nbformat_minor": 2
}
